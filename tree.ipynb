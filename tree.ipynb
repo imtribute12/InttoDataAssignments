{
 "cells": [
  {
   "cell_type": "code",
   "execution_count": 21,
   "metadata": {},
   "outputs": [],
   "source": [
    "#import libs \n",
    "\n",
    "import pandas as pd\n",
    "import numpy as np\n",
    "import matplotlib.pyplot as plt\n",
    "import seaborn as sb\n",
    "from sklearn.model_selection import train_test_split\n",
    "from sklearn.ensemble import RandomForestClassifier\n",
    "from sklearn import metrics\n",
    "from sklearn.metrics import confusion_matrix\n",
    "from sklearn.metrics import precision_score\n",
    "from sklearn.metrics import recall_score\n",
    "from sklearn.metrics import f1_score\n",
    "import graphviz\n",
    "from sklearn import tree\n",
    "from sklearn.tree import export_graphviz\n",
    "\n"
   ]
  },
  {
   "cell_type": "code",
   "execution_count": 22,
   "metadata": {},
   "outputs": [
    {
     "data": {
      "text/html": [
       "<div>\n",
       "<style scoped>\n",
       "    .dataframe tbody tr th:only-of-type {\n",
       "        vertical-align: middle;\n",
       "    }\n",
       "\n",
       "    .dataframe tbody tr th {\n",
       "        vertical-align: top;\n",
       "    }\n",
       "\n",
       "    .dataframe thead th {\n",
       "        text-align: right;\n",
       "    }\n",
       "</style>\n",
       "<table border=\"1\" class=\"dataframe\">\n",
       "  <thead>\n",
       "    <tr style=\"text-align: right;\">\n",
       "      <th></th>\n",
       "      <th>sepal_length</th>\n",
       "      <th>sepal_width</th>\n",
       "      <th>petal_length</th>\n",
       "      <th>petal_width</th>\n",
       "      <th>species</th>\n",
       "    </tr>\n",
       "  </thead>\n",
       "  <tbody>\n",
       "    <tr>\n",
       "      <th>0</th>\n",
       "      <td>5.1</td>\n",
       "      <td>3.5</td>\n",
       "      <td>1.4</td>\n",
       "      <td>0.2</td>\n",
       "      <td>setosa</td>\n",
       "    </tr>\n",
       "    <tr>\n",
       "      <th>1</th>\n",
       "      <td>4.9</td>\n",
       "      <td>3.0</td>\n",
       "      <td>1.4</td>\n",
       "      <td>0.2</td>\n",
       "      <td>setosa</td>\n",
       "    </tr>\n",
       "    <tr>\n",
       "      <th>2</th>\n",
       "      <td>4.7</td>\n",
       "      <td>3.2</td>\n",
       "      <td>1.3</td>\n",
       "      <td>0.2</td>\n",
       "      <td>setosa</td>\n",
       "    </tr>\n",
       "    <tr>\n",
       "      <th>3</th>\n",
       "      <td>4.6</td>\n",
       "      <td>3.1</td>\n",
       "      <td>1.5</td>\n",
       "      <td>0.2</td>\n",
       "      <td>setosa</td>\n",
       "    </tr>\n",
       "    <tr>\n",
       "      <th>4</th>\n",
       "      <td>5.0</td>\n",
       "      <td>3.6</td>\n",
       "      <td>1.4</td>\n",
       "      <td>0.2</td>\n",
       "      <td>setosa</td>\n",
       "    </tr>\n",
       "    <tr>\n",
       "      <th>...</th>\n",
       "      <td>...</td>\n",
       "      <td>...</td>\n",
       "      <td>...</td>\n",
       "      <td>...</td>\n",
       "      <td>...</td>\n",
       "    </tr>\n",
       "    <tr>\n",
       "      <th>145</th>\n",
       "      <td>6.7</td>\n",
       "      <td>3.0</td>\n",
       "      <td>5.2</td>\n",
       "      <td>2.3</td>\n",
       "      <td>virginica</td>\n",
       "    </tr>\n",
       "    <tr>\n",
       "      <th>146</th>\n",
       "      <td>6.3</td>\n",
       "      <td>2.5</td>\n",
       "      <td>5.0</td>\n",
       "      <td>1.9</td>\n",
       "      <td>virginica</td>\n",
       "    </tr>\n",
       "    <tr>\n",
       "      <th>147</th>\n",
       "      <td>6.5</td>\n",
       "      <td>3.0</td>\n",
       "      <td>5.2</td>\n",
       "      <td>2.0</td>\n",
       "      <td>virginica</td>\n",
       "    </tr>\n",
       "    <tr>\n",
       "      <th>148</th>\n",
       "      <td>6.2</td>\n",
       "      <td>3.4</td>\n",
       "      <td>5.4</td>\n",
       "      <td>2.3</td>\n",
       "      <td>virginica</td>\n",
       "    </tr>\n",
       "    <tr>\n",
       "      <th>149</th>\n",
       "      <td>5.9</td>\n",
       "      <td>3.0</td>\n",
       "      <td>5.1</td>\n",
       "      <td>1.8</td>\n",
       "      <td>virginica</td>\n",
       "    </tr>\n",
       "  </tbody>\n",
       "</table>\n",
       "<p>150 rows × 5 columns</p>\n",
       "</div>"
      ],
      "text/plain": [
       "     sepal_length  sepal_width  petal_length  petal_width    species\n",
       "0             5.1          3.5           1.4          0.2     setosa\n",
       "1             4.9          3.0           1.4          0.2     setosa\n",
       "2             4.7          3.2           1.3          0.2     setosa\n",
       "3             4.6          3.1           1.5          0.2     setosa\n",
       "4             5.0          3.6           1.4          0.2     setosa\n",
       "..            ...          ...           ...          ...        ...\n",
       "145           6.7          3.0           5.2          2.3  virginica\n",
       "146           6.3          2.5           5.0          1.9  virginica\n",
       "147           6.5          3.0           5.2          2.0  virginica\n",
       "148           6.2          3.4           5.4          2.3  virginica\n",
       "149           5.9          3.0           5.1          1.8  virginica\n",
       "\n",
       "[150 rows x 5 columns]"
      ]
     },
     "execution_count": 22,
     "metadata": {},
     "output_type": "execute_result"
    }
   ],
   "source": [
    "data = sb.load_dataset(\"iris\")\n",
    "data.columns\n",
    "\n",
    "data"
   ]
  },
  {
   "cell_type": "code",
   "execution_count": 23,
   "metadata": {},
   "outputs": [
    {
     "data": {
      "text/plain": [
       "array(['setosa', 'versicolor', 'versicolor', 'versicolor', 'virginica',\n",
       "       'setosa', 'virginica', 'setosa', 'versicolor', 'setosa', 'setosa',\n",
       "       'versicolor', 'virginica', 'virginica', 'virginica', 'setosa',\n",
       "       'setosa', 'versicolor', 'setosa', 'versicolor', 'setosa',\n",
       "       'versicolor', 'versicolor', 'virginica', 'virginica', 'virginica',\n",
       "       'versicolor', 'virginica', 'versicolor', 'virginica', 'setosa',\n",
       "       'virginica', 'virginica', 'setosa', 'virginica', 'setosa',\n",
       "       'setosa', 'versicolor'], dtype=object)"
      ]
     },
     "execution_count": 23,
     "metadata": {},
     "output_type": "execute_result"
    }
   ],
   "source": [
    "#Q1\n",
    "\n",
    "# Split dataset\n",
    "X=data[['sepal_length', 'sepal_width', 'petal_length', 'petal_width']]\n",
    "y=data['species']\n",
    "\n",
    "X_train, X_test, y_train, y_test = train_test_split(X, y, test_size=0.25, shuffle = True) # 75% training and 25% test\n",
    "\n",
    "#create RandomForest\n",
    "forest =RandomForestClassifier(n_estimators=10, criterion=\"gini\")\n",
    "\n",
    "#training the model\n",
    "forest.fit(X_train,y_train)\n",
    "\n",
    "y_pred = forest.predict(X_test)\n",
    "\n",
    "y_pred"
   ]
  },
  {
   "cell_type": "code",
   "execution_count": 24,
   "metadata": {},
   "outputs": [
    {
     "name": "stdout",
     "output_type": "stream",
     "text": [
      "Confusion Matrix:\n",
      " [[13  0  0]\n",
      " [ 0  8  0]\n",
      " [ 0  4 13]]\n",
      "Accuracy: 0.8947368421052632\n",
      "Precision Score: 0.8888888888888888\n",
      "Recall Score: 0.9215686274509803\n",
      "F1 Score: 0.8888888888888888\n"
     ]
    }
   ],
   "source": [
    "#Q2\n",
    "\n",
    "#confusion matrix\n",
    "matrix = confusion_matrix(y_test, y_pred)\n",
    "print(\"Confusion Matrix:\\n\", matrix)\n",
    "\n",
    "#Accuracy\n",
    "accuracy = metrics.accuracy_score(y_test, y_pred)\n",
    "print(\"Accuracy:\", accuracy)\n",
    "\n",
    "#precision\n",
    "pre = precision_score(y_test, y_pred, average='macro')\n",
    "print(\"Precision Score:\", pre)\n",
    "\n",
    "#recall\n",
    "recall = recall_score(y_test, y_pred, average='macro')\n",
    "print(\"Recall Score:\", recall)\n",
    "\n",
    "#f1 score\n",
    "f1 = f1_score(y_test, y_pred, average='macro')\n",
    "print(\"F1 Score:\", f1)"
   ]
  },
  {
   "cell_type": "code",
   "execution_count": 25,
   "metadata": {},
   "outputs": [
    {
     "data": {
      "image/svg+xml": "<?xml version=\"1.0\" encoding=\"UTF-8\" standalone=\"no\"?>\n<!DOCTYPE svg PUBLIC \"-//W3C//DTD SVG 1.1//EN\"\n \"http://www.w3.org/Graphics/SVG/1.1/DTD/svg11.dtd\">\n<!-- Generated by graphviz version 7.0.4 (20221203.1631)\n -->\n<!-- Title: Tree Pages: 1 -->\n<svg width=\"635pt\" height=\"671pt\"\n viewBox=\"0.00 0.00 635.00 671.00\" xmlns=\"http://www.w3.org/2000/svg\" xmlns:xlink=\"http://www.w3.org/1999/xlink\">\n<g id=\"graph0\" class=\"graph\" transform=\"scale(1 1) rotate(0) translate(4 667)\">\n<title>Tree</title>\n<polygon fill=\"white\" stroke=\"none\" points=\"-4,4 -4,-667 631,-667 631,4 -4,4\"/>\n<!-- 0 -->\n<g id=\"node1\" class=\"node\">\n<title>0</title>\n<path fill=\"#fffdfc\" stroke=\"black\" d=\"M333,-663C333,-663 220,-663 220,-663 214,-663 208,-657 208,-651 208,-651 208,-592 208,-592 208,-586 214,-580 220,-580 220,-580 333,-580 333,-580 339,-580 345,-586 345,-592 345,-592 345,-651 345,-651 345,-657 339,-663 333,-663\"/>\n<text text-anchor=\"start\" x=\"221\" y=\"-647.8\" font-family=\"Helvetica,sans-Serif\" font-size=\"14.00\">sepal_width ≤ 0.7</text>\n<text text-anchor=\"start\" x=\"239\" y=\"-632.8\" font-family=\"Helvetica,sans-Serif\" font-size=\"14.00\">gini = 0.666</text>\n<text text-anchor=\"start\" x=\"233\" y=\"-617.8\" font-family=\"Helvetica,sans-Serif\" font-size=\"14.00\">samples = 72</text>\n<text text-anchor=\"start\" x=\"216\" y=\"-602.8\" font-family=\"Helvetica,sans-Serif\" font-size=\"14.00\">value = [39, 38, 35]</text>\n<text text-anchor=\"start\" x=\"230.5\" y=\"-587.8\" font-family=\"Helvetica,sans-Serif\" font-size=\"14.00\">class = setosa</text>\n</g>\n<!-- 1 -->\n<g id=\"node2\" class=\"node\">\n<title>1</title>\n<path fill=\"#e58139\" stroke=\"black\" d=\"M252,-536.5C252,-536.5 155,-536.5 155,-536.5 149,-536.5 143,-530.5 143,-524.5 143,-524.5 143,-480.5 143,-480.5 143,-474.5 149,-468.5 155,-468.5 155,-468.5 252,-468.5 252,-468.5 258,-468.5 264,-474.5 264,-480.5 264,-480.5 264,-524.5 264,-524.5 264,-530.5 258,-536.5 252,-536.5\"/>\n<text text-anchor=\"start\" x=\"174.5\" y=\"-521.3\" font-family=\"Helvetica,sans-Serif\" font-size=\"14.00\">gini = 0.0</text>\n<text text-anchor=\"start\" x=\"160\" y=\"-506.3\" font-family=\"Helvetica,sans-Serif\" font-size=\"14.00\">samples = 25</text>\n<text text-anchor=\"start\" x=\"151\" y=\"-491.3\" font-family=\"Helvetica,sans-Serif\" font-size=\"14.00\">value = [39, 0, 0]</text>\n<text text-anchor=\"start\" x=\"157.5\" y=\"-476.3\" font-family=\"Helvetica,sans-Serif\" font-size=\"14.00\">class = setosa</text>\n</g>\n<!-- 0&#45;&gt;1 -->\n<g id=\"edge1\" class=\"edge\">\n<title>0&#45;&gt;1</title>\n<path fill=\"none\" stroke=\"black\" d=\"M250.97,-579.58C244.29,-568.88 237.08,-557.32 230.34,-546.52\"/>\n<polygon fill=\"black\" stroke=\"black\" points=\"233.38,-544.78 225.12,-538.15 227.44,-548.48 233.38,-544.78\"/>\n<text text-anchor=\"middle\" x=\"218.67\" y=\"-557.52\" font-family=\"Helvetica,sans-Serif\" font-size=\"14.00\">True</text>\n</g>\n<!-- 2 -->\n<g id=\"node3\" class=\"node\">\n<title>2</title>\n<path fill=\"#effdf5\" stroke=\"black\" d=\"M407,-544C407,-544 294,-544 294,-544 288,-544 282,-538 282,-532 282,-532 282,-473 282,-473 282,-467 288,-461 294,-461 294,-461 407,-461 407,-461 413,-461 419,-467 419,-473 419,-473 419,-532 419,-532 419,-538 413,-544 407,-544\"/>\n<text text-anchor=\"start\" x=\"290\" y=\"-528.8\" font-family=\"Helvetica,sans-Serif\" font-size=\"14.00\">petal_length ≤ 6.05</text>\n<text text-anchor=\"start\" x=\"313\" y=\"-513.8\" font-family=\"Helvetica,sans-Serif\" font-size=\"14.00\">gini = 0.499</text>\n<text text-anchor=\"start\" x=\"307\" y=\"-498.8\" font-family=\"Helvetica,sans-Serif\" font-size=\"14.00\">samples = 47</text>\n<text text-anchor=\"start\" x=\"294\" y=\"-483.8\" font-family=\"Helvetica,sans-Serif\" font-size=\"14.00\">value = [0, 38, 35]</text>\n<text text-anchor=\"start\" x=\"295\" y=\"-468.8\" font-family=\"Helvetica,sans-Serif\" font-size=\"14.00\">class = versicolor</text>\n</g>\n<!-- 0&#45;&gt;2 -->\n<g id=\"edge2\" class=\"edge\">\n<title>0&#45;&gt;2</title>\n<path fill=\"none\" stroke=\"black\" d=\"M302.38,-579.58C307.65,-571.25 313.25,-562.39 318.7,-553.78\"/>\n<polygon fill=\"black\" stroke=\"black\" points=\"321.56,-555.8 323.95,-545.48 315.65,-552.06 321.56,-555.8\"/>\n<text text-anchor=\"middle\" x=\"330.25\" y=\"-564.89\" font-family=\"Helvetica,sans-Serif\" font-size=\"14.00\">False</text>\n</g>\n<!-- 3 -->\n<g id=\"node4\" class=\"node\">\n<title>3</title>\n<path fill=\"#6aeca0\" stroke=\"black\" d=\"M331,-425C331,-425 214,-425 214,-425 208,-425 202,-419 202,-413 202,-413 202,-354 202,-354 202,-348 208,-342 214,-342 214,-342 331,-342 331,-342 337,-342 343,-348 343,-354 343,-354 343,-413 343,-413 343,-419 337,-425 331,-425\"/>\n<text text-anchor=\"start\" x=\"210\" y=\"-409.8\" font-family=\"Helvetica,sans-Serif\" font-size=\"14.00\">sepal_length ≤ 4.85</text>\n<text text-anchor=\"start\" x=\"239\" y=\"-394.8\" font-family=\"Helvetica,sans-Serif\" font-size=\"14.00\">gini = 0.32</text>\n<text text-anchor=\"start\" x=\"229\" y=\"-379.8\" font-family=\"Helvetica,sans-Serif\" font-size=\"14.00\">samples = 22</text>\n<text text-anchor=\"start\" x=\"220\" y=\"-364.8\" font-family=\"Helvetica,sans-Serif\" font-size=\"14.00\">value = [0, 28, 7]</text>\n<text text-anchor=\"start\" x=\"217\" y=\"-349.8\" font-family=\"Helvetica,sans-Serif\" font-size=\"14.00\">class = versicolor</text>\n</g>\n<!-- 2&#45;&gt;3 -->\n<g id=\"edge3\" class=\"edge\">\n<title>2&#45;&gt;3</title>\n<path fill=\"none\" stroke=\"black\" d=\"M323.22,-460.58C317.61,-452.16 311.64,-443.2 305.84,-434.5\"/>\n<polygon fill=\"black\" stroke=\"black\" points=\"308.93,-432.84 300.47,-426.46 303.11,-436.72 308.93,-432.84\"/>\n</g>\n<!-- 10 -->\n<g id=\"node11\" class=\"node\">\n<title>10</title>\n<path fill=\"#ae80ee\" stroke=\"black\" d=\"M484,-425C484,-425 373,-425 373,-425 367,-425 361,-419 361,-413 361,-413 361,-354 361,-354 361,-348 367,-342 373,-342 373,-342 484,-342 484,-342 490,-342 496,-348 496,-354 496,-354 496,-413 496,-413 496,-419 490,-425 484,-425\"/>\n<text text-anchor=\"start\" x=\"369\" y=\"-409.8\" font-family=\"Helvetica,sans-Serif\" font-size=\"14.00\">sepal_width ≤ 1.75</text>\n<text text-anchor=\"start\" x=\"391\" y=\"-394.8\" font-family=\"Helvetica,sans-Serif\" font-size=\"14.00\">gini = 0.388</text>\n<text text-anchor=\"start\" x=\"385\" y=\"-379.8\" font-family=\"Helvetica,sans-Serif\" font-size=\"14.00\">samples = 25</text>\n<text text-anchor=\"start\" x=\"372\" y=\"-364.8\" font-family=\"Helvetica,sans-Serif\" font-size=\"14.00\">value = [0, 10, 28]</text>\n<text text-anchor=\"start\" x=\"378.5\" y=\"-349.8\" font-family=\"Helvetica,sans-Serif\" font-size=\"14.00\">class = virginica</text>\n</g>\n<!-- 2&#45;&gt;10 -->\n<g id=\"edge10\" class=\"edge\">\n<title>2&#45;&gt;10</title>\n<path fill=\"none\" stroke=\"black\" d=\"M377.78,-460.58C383.39,-452.16 389.36,-443.2 395.16,-434.5\"/>\n<polygon fill=\"black\" stroke=\"black\" points=\"397.89,-436.72 400.53,-426.46 392.07,-432.84 397.89,-436.72\"/>\n</g>\n<!-- 4 -->\n<g id=\"node5\" class=\"node\">\n<title>4</title>\n<path fill=\"#40e686\" stroke=\"black\" d=\"M188,-306C188,-306 85,-306 85,-306 79,-306 73,-300 73,-294 73,-294 73,-235 73,-235 73,-229 79,-223 85,-223 85,-223 188,-223 188,-223 194,-223 200,-229 200,-235 200,-235 200,-294 200,-294 200,-300 194,-306 188,-306\"/>\n<text text-anchor=\"start\" x=\"81\" y=\"-290.8\" font-family=\"Helvetica,sans-Serif\" font-size=\"14.00\">sepal_width ≤ 1.6</text>\n<text text-anchor=\"start\" x=\"99\" y=\"-275.8\" font-family=\"Helvetica,sans-Serif\" font-size=\"14.00\">gini = 0.067</text>\n<text text-anchor=\"start\" x=\"93\" y=\"-260.8\" font-family=\"Helvetica,sans-Serif\" font-size=\"14.00\">samples = 19</text>\n<text text-anchor=\"start\" x=\"84\" y=\"-245.8\" font-family=\"Helvetica,sans-Serif\" font-size=\"14.00\">value = [0, 28, 1]</text>\n<text text-anchor=\"start\" x=\"81\" y=\"-230.8\" font-family=\"Helvetica,sans-Serif\" font-size=\"14.00\">class = versicolor</text>\n</g>\n<!-- 3&#45;&gt;4 -->\n<g id=\"edge4\" class=\"edge\">\n<title>3&#45;&gt;4</title>\n<path fill=\"none\" stroke=\"black\" d=\"M224.93,-341.58C214.42,-332.53 203.18,-322.87 192.37,-313.56\"/>\n<polygon fill=\"black\" stroke=\"black\" points=\"194.82,-311.06 184.96,-307.19 190.26,-316.36 194.82,-311.06\"/>\n</g>\n<!-- 9 -->\n<g id=\"node10\" class=\"node\">\n<title>9</title>\n<path fill=\"#8139e5\" stroke=\"black\" d=\"M322.5,-298.5C322.5,-298.5 230.5,-298.5 230.5,-298.5 224.5,-298.5 218.5,-292.5 218.5,-286.5 218.5,-286.5 218.5,-242.5 218.5,-242.5 218.5,-236.5 224.5,-230.5 230.5,-230.5 230.5,-230.5 322.5,-230.5 322.5,-230.5 328.5,-230.5 334.5,-236.5 334.5,-242.5 334.5,-242.5 334.5,-286.5 334.5,-286.5 334.5,-292.5 328.5,-298.5 322.5,-298.5\"/>\n<text text-anchor=\"start\" x=\"247.5\" y=\"-283.3\" font-family=\"Helvetica,sans-Serif\" font-size=\"14.00\">gini = 0.0</text>\n<text text-anchor=\"start\" x=\"237\" y=\"-268.3\" font-family=\"Helvetica,sans-Serif\" font-size=\"14.00\">samples = 3</text>\n<text text-anchor=\"start\" x=\"228\" y=\"-253.3\" font-family=\"Helvetica,sans-Serif\" font-size=\"14.00\">value = [0, 0, 6]</text>\n<text text-anchor=\"start\" x=\"226.5\" y=\"-238.3\" font-family=\"Helvetica,sans-Serif\" font-size=\"14.00\">class = virginica</text>\n</g>\n<!-- 3&#45;&gt;9 -->\n<g id=\"edge9\" class=\"edge\">\n<title>3&#45;&gt;9</title>\n<path fill=\"none\" stroke=\"black\" d=\"M273.9,-341.58C274.25,-331.43 274.62,-320.5 274.97,-310.18\"/>\n<polygon fill=\"black\" stroke=\"black\" points=\"278.46,-310.49 275.31,-300.37 271.47,-310.25 278.46,-310.49\"/>\n</g>\n<!-- 5 -->\n<g id=\"node6\" class=\"node\">\n<title>5</title>\n<path fill=\"#39e581\" stroke=\"black\" d=\"M115,-179.5C115,-179.5 12,-179.5 12,-179.5 6,-179.5 0,-173.5 0,-167.5 0,-167.5 0,-123.5 0,-123.5 0,-117.5 6,-111.5 12,-111.5 12,-111.5 115,-111.5 115,-111.5 121,-111.5 127,-117.5 127,-123.5 127,-123.5 127,-167.5 127,-167.5 127,-173.5 121,-179.5 115,-179.5\"/>\n<text text-anchor=\"start\" x=\"34.5\" y=\"-164.3\" font-family=\"Helvetica,sans-Serif\" font-size=\"14.00\">gini = 0.0</text>\n<text text-anchor=\"start\" x=\"20\" y=\"-149.3\" font-family=\"Helvetica,sans-Serif\" font-size=\"14.00\">samples = 17</text>\n<text text-anchor=\"start\" x=\"11\" y=\"-134.3\" font-family=\"Helvetica,sans-Serif\" font-size=\"14.00\">value = [0, 26, 0]</text>\n<text text-anchor=\"start\" x=\"8\" y=\"-119.3\" font-family=\"Helvetica,sans-Serif\" font-size=\"14.00\">class = versicolor</text>\n</g>\n<!-- 4&#45;&gt;5 -->\n<g id=\"edge5\" class=\"edge\">\n<title>4&#45;&gt;5</title>\n<path fill=\"none\" stroke=\"black\" d=\"M110.97,-222.58C104.29,-211.88 97.08,-200.32 90.34,-189.52\"/>\n<polygon fill=\"black\" stroke=\"black\" points=\"93.38,-187.78 85.12,-181.15 87.44,-191.48 93.38,-187.78\"/>\n</g>\n<!-- 6 -->\n<g id=\"node7\" class=\"node\">\n<title>6</title>\n<path fill=\"#9cf2c0\" stroke=\"black\" d=\"M262,-187C262,-187 157,-187 157,-187 151,-187 145,-181 145,-175 145,-175 145,-116 145,-116 145,-110 151,-104 157,-104 157,-104 262,-104 262,-104 268,-104 274,-110 274,-116 274,-116 274,-175 274,-175 274,-181 268,-187 262,-187\"/>\n<text text-anchor=\"start\" x=\"153\" y=\"-171.8\" font-family=\"Helvetica,sans-Serif\" font-size=\"14.00\">petal_length ≤ 5.4</text>\n<text text-anchor=\"start\" x=\"172\" y=\"-156.8\" font-family=\"Helvetica,sans-Serif\" font-size=\"14.00\">gini = 0.444</text>\n<text text-anchor=\"start\" x=\"170\" y=\"-141.8\" font-family=\"Helvetica,sans-Serif\" font-size=\"14.00\">samples = 2</text>\n<text text-anchor=\"start\" x=\"161\" y=\"-126.8\" font-family=\"Helvetica,sans-Serif\" font-size=\"14.00\">value = [0, 2, 1]</text>\n<text text-anchor=\"start\" x=\"154\" y=\"-111.8\" font-family=\"Helvetica,sans-Serif\" font-size=\"14.00\">class = versicolor</text>\n</g>\n<!-- 4&#45;&gt;6 -->\n<g id=\"edge6\" class=\"edge\">\n<title>4&#45;&gt;6</title>\n<path fill=\"none\" stroke=\"black\" d=\"M162.03,-222.58C167.23,-214.25 172.75,-205.39 178.13,-196.78\"/>\n<polygon fill=\"black\" stroke=\"black\" points=\"180.98,-198.82 183.3,-188.48 175.04,-195.12 180.98,-198.82\"/>\n</g>\n<!-- 7 -->\n<g id=\"node8\" class=\"node\">\n<title>7</title>\n<path fill=\"#8139e5\" stroke=\"black\" d=\"M185.5,-68C185.5,-68 93.5,-68 93.5,-68 87.5,-68 81.5,-62 81.5,-56 81.5,-56 81.5,-12 81.5,-12 81.5,-6 87.5,0 93.5,0 93.5,0 185.5,0 185.5,0 191.5,0 197.5,-6 197.5,-12 197.5,-12 197.5,-56 197.5,-56 197.5,-62 191.5,-68 185.5,-68\"/>\n<text text-anchor=\"start\" x=\"110.5\" y=\"-52.8\" font-family=\"Helvetica,sans-Serif\" font-size=\"14.00\">gini = 0.0</text>\n<text text-anchor=\"start\" x=\"100\" y=\"-37.8\" font-family=\"Helvetica,sans-Serif\" font-size=\"14.00\">samples = 1</text>\n<text text-anchor=\"start\" x=\"91\" y=\"-22.8\" font-family=\"Helvetica,sans-Serif\" font-size=\"14.00\">value = [0, 0, 1]</text>\n<text text-anchor=\"start\" x=\"89.5\" y=\"-7.8\" font-family=\"Helvetica,sans-Serif\" font-size=\"14.00\">class = virginica</text>\n</g>\n<!-- 6&#45;&gt;7 -->\n<g id=\"edge7\" class=\"edge\">\n<title>6&#45;&gt;7</title>\n<path fill=\"none\" stroke=\"black\" d=\"M183.43,-103.73C178.01,-95.24 172.28,-86.28 166.82,-77.73\"/>\n<polygon fill=\"black\" stroke=\"black\" points=\"169.94,-76.12 161.6,-69.57 164.04,-79.89 169.94,-76.12\"/>\n</g>\n<!-- 8 -->\n<g id=\"node9\" class=\"node\">\n<title>8</title>\n<path fill=\"#39e581\" stroke=\"black\" d=\"M331,-68C331,-68 228,-68 228,-68 222,-68 216,-62 216,-56 216,-56 216,-12 216,-12 216,-6 222,0 228,0 228,0 331,0 331,0 337,0 343,-6 343,-12 343,-12 343,-56 343,-56 343,-62 337,-68 331,-68\"/>\n<text text-anchor=\"start\" x=\"250.5\" y=\"-52.8\" font-family=\"Helvetica,sans-Serif\" font-size=\"14.00\">gini = 0.0</text>\n<text text-anchor=\"start\" x=\"240\" y=\"-37.8\" font-family=\"Helvetica,sans-Serif\" font-size=\"14.00\">samples = 1</text>\n<text text-anchor=\"start\" x=\"231\" y=\"-22.8\" font-family=\"Helvetica,sans-Serif\" font-size=\"14.00\">value = [0, 2, 0]</text>\n<text text-anchor=\"start\" x=\"224\" y=\"-7.8\" font-family=\"Helvetica,sans-Serif\" font-size=\"14.00\">class = versicolor</text>\n</g>\n<!-- 6&#45;&gt;8 -->\n<g id=\"edge8\" class=\"edge\">\n<title>6&#45;&gt;8</title>\n<path fill=\"none\" stroke=\"black\" d=\"M235.57,-103.73C240.99,-95.24 246.72,-86.28 252.18,-77.73\"/>\n<polygon fill=\"black\" stroke=\"black\" points=\"254.96,-79.89 257.4,-69.57 249.06,-76.12 254.96,-79.89\"/>\n</g>\n<!-- 11 -->\n<g id=\"node12\" class=\"node\">\n<title>11</title>\n<path fill=\"#39e581\" stroke=\"black\" d=\"M476,-298.5C476,-298.5 373,-298.5 373,-298.5 367,-298.5 361,-292.5 361,-286.5 361,-286.5 361,-242.5 361,-242.5 361,-236.5 367,-230.5 373,-230.5 373,-230.5 476,-230.5 476,-230.5 482,-230.5 488,-236.5 488,-242.5 488,-242.5 488,-286.5 488,-286.5 488,-292.5 482,-298.5 476,-298.5\"/>\n<text text-anchor=\"start\" x=\"395.5\" y=\"-283.3\" font-family=\"Helvetica,sans-Serif\" font-size=\"14.00\">gini = 0.0</text>\n<text text-anchor=\"start\" x=\"385\" y=\"-268.3\" font-family=\"Helvetica,sans-Serif\" font-size=\"14.00\">samples = 8</text>\n<text text-anchor=\"start\" x=\"372\" y=\"-253.3\" font-family=\"Helvetica,sans-Serif\" font-size=\"14.00\">value = [0, 10, 0]</text>\n<text text-anchor=\"start\" x=\"369\" y=\"-238.3\" font-family=\"Helvetica,sans-Serif\" font-size=\"14.00\">class = versicolor</text>\n</g>\n<!-- 10&#45;&gt;11 -->\n<g id=\"edge11\" class=\"edge\">\n<title>10&#45;&gt;11</title>\n<path fill=\"none\" stroke=\"black\" d=\"M427.1,-341.58C426.75,-331.43 426.38,-320.5 426.03,-310.18\"/>\n<polygon fill=\"black\" stroke=\"black\" points=\"429.53,-310.25 425.69,-300.37 422.54,-310.49 429.53,-310.25\"/>\n</g>\n<!-- 12 -->\n<g id=\"node13\" class=\"node\">\n<title>12</title>\n<path fill=\"#8139e5\" stroke=\"black\" d=\"M615,-298.5C615,-298.5 518,-298.5 518,-298.5 512,-298.5 506,-292.5 506,-286.5 506,-286.5 506,-242.5 506,-242.5 506,-236.5 512,-230.5 518,-230.5 518,-230.5 615,-230.5 615,-230.5 621,-230.5 627,-236.5 627,-242.5 627,-242.5 627,-286.5 627,-286.5 627,-292.5 621,-298.5 615,-298.5\"/>\n<text text-anchor=\"start\" x=\"537.5\" y=\"-283.3\" font-family=\"Helvetica,sans-Serif\" font-size=\"14.00\">gini = 0.0</text>\n<text text-anchor=\"start\" x=\"523\" y=\"-268.3\" font-family=\"Helvetica,sans-Serif\" font-size=\"14.00\">samples = 17</text>\n<text text-anchor=\"start\" x=\"514\" y=\"-253.3\" font-family=\"Helvetica,sans-Serif\" font-size=\"14.00\">value = [0, 0, 28]</text>\n<text text-anchor=\"start\" x=\"516.5\" y=\"-238.3\" font-family=\"Helvetica,sans-Serif\" font-size=\"14.00\">class = virginica</text>\n</g>\n<!-- 10&#45;&gt;12 -->\n<g id=\"edge12\" class=\"edge\">\n<title>10&#45;&gt;12</title>\n<path fill=\"none\" stroke=\"black\" d=\"M476.77,-341.58C490.28,-330.12 504.97,-317.67 518.47,-306.22\"/>\n<polygon fill=\"black\" stroke=\"black\" points=\"520.63,-308.98 526,-299.84 516.11,-303.64 520.63,-308.98\"/>\n</g>\n</g>\n</svg>\n",
      "text/plain": [
       "<graphviz.sources.Source at 0x229b86aa710>"
      ]
     },
     "execution_count": 25,
     "metadata": {},
     "output_type": "execute_result"
    }
   ],
   "source": [
    "#Q3\n",
    "\n",
    "dot_data = tree.export_graphviz(forest.estimators_[0], \n",
    "                           out_file=None, \n",
    "                           feature_names=[\"petal_length\", \"petal_width\", \"sepal_length\", \"sepal_width\"],\n",
    "                           class_names=[\"setosa\", \"versicolor\", \"virginica\"],\n",
    "                           filled=True, \n",
    "                           impurity=True, \n",
    "                           rounded=True,\n",
    "                           special_characters=True)\n",
    "\n",
    "graphviz.Source(dot_data)"
   ]
  }
 ],
 "metadata": {
  "kernelspec": {
   "display_name": "Python 3.10.4 64-bit",
   "language": "python",
   "name": "python3"
  },
  "language_info": {
   "codemirror_mode": {
    "name": "ipython",
    "version": 3
   },
   "file_extension": ".py",
   "mimetype": "text/x-python",
   "name": "python",
   "nbconvert_exporter": "python",
   "pygments_lexer": "ipython3",
   "version": "3.10.4"
  },
  "orig_nbformat": 4,
  "vscode": {
   "interpreter": {
    "hash": "bac7c73edd8fdea2b5cdd8c691999bbddf7f4c0684c27c603f5c30c2c76a69af"
   }
  }
 },
 "nbformat": 4,
 "nbformat_minor": 2
}
